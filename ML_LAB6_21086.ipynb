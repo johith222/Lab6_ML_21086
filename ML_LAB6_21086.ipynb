{
 "cells": [
  {
   "cell_type": "code",
   "execution_count": 2,
   "id": "c4374ebe",
   "metadata": {},
   "outputs": [
    {
     "data": {
      "text/html": [
       "<div>\n",
       "<style scoped>\n",
       "    .dataframe tbody tr th:only-of-type {\n",
       "        vertical-align: middle;\n",
       "    }\n",
       "\n",
       "    .dataframe tbody tr th {\n",
       "        vertical-align: top;\n",
       "    }\n",
       "\n",
       "    .dataframe thead th {\n",
       "        text-align: right;\n",
       "    }\n",
       "</style>\n",
       "<table border=\"1\" class=\"dataframe\">\n",
       "  <thead>\n",
       "    <tr style=\"text-align: right;\">\n",
       "      <th></th>\n",
       "      <th>Unnamed: 0</th>\n",
       "      <th>id</th>\n",
       "      <th>headline</th>\n",
       "      <th>written_by</th>\n",
       "      <th>news</th>\n",
       "      <th>label</th>\n",
       "    </tr>\n",
       "  </thead>\n",
       "  <tbody>\n",
       "    <tr>\n",
       "      <th>0</th>\n",
       "      <td>0</td>\n",
       "      <td>9653</td>\n",
       "      <td>Ethics Questions Dogged Agriculture Nominee as...</td>\n",
       "      <td>Eric Lipton and Steve Eder</td>\n",
       "      <td>WASHINGTON  —   In Sonny Perdue’s telling, Geo...</td>\n",
       "      <td>0</td>\n",
       "    </tr>\n",
       "    <tr>\n",
       "      <th>1</th>\n",
       "      <td>1</td>\n",
       "      <td>10041</td>\n",
       "      <td>U.S. Must Dig Deep to Stop Argentina’s Lionel ...</td>\n",
       "      <td>David Waldstein</td>\n",
       "      <td>HOUSTON  —   Venezuela had a plan. It was a ta...</td>\n",
       "      <td>0</td>\n",
       "    </tr>\n",
       "    <tr>\n",
       "      <th>2</th>\n",
       "      <td>2</td>\n",
       "      <td>19113</td>\n",
       "      <td>Cotton to House: ’Do Not Walk the Plank and Vo...</td>\n",
       "      <td>Pam Key</td>\n",
       "      <td>Sunday on ABC’s “This Week,” while discussing ...</td>\n",
       "      <td>0</td>\n",
       "    </tr>\n",
       "    <tr>\n",
       "      <th>3</th>\n",
       "      <td>3</td>\n",
       "      <td>6868</td>\n",
       "      <td>Paul LePage, Besieged Maine Governor, Sends Co...</td>\n",
       "      <td>Jess Bidgood</td>\n",
       "      <td>AUGUSTA, Me.  —   The beleaguered Republican g...</td>\n",
       "      <td>0</td>\n",
       "    </tr>\n",
       "    <tr>\n",
       "      <th>4</th>\n",
       "      <td>4</td>\n",
       "      <td>7596</td>\n",
       "      <td>A Digital 9/11 If Trump Wins</td>\n",
       "      <td>Finian Cunningham</td>\n",
       "      <td>Finian Cunningham has written extensively on...</td>\n",
       "      <td>1</td>\n",
       "    </tr>\n",
       "    <tr>\n",
       "      <th>...</th>\n",
       "      <td>...</td>\n",
       "      <td>...</td>\n",
       "      <td>...</td>\n",
       "      <td>...</td>\n",
       "      <td>...</td>\n",
       "      <td>...</td>\n",
       "    </tr>\n",
       "    <tr>\n",
       "      <th>20795</th>\n",
       "      <td>20795</td>\n",
       "      <td>5671</td>\n",
       "      <td>NaN</td>\n",
       "      <td>NeverSurrender</td>\n",
       "      <td>No, you'll be a dog licking of the vomit of yo...</td>\n",
       "      <td>1</td>\n",
       "    </tr>\n",
       "    <tr>\n",
       "      <th>20796</th>\n",
       "      <td>20796</td>\n",
       "      <td>14831</td>\n",
       "      <td>Albert Pike and the European Migrant Crisis</td>\n",
       "      <td>Rixon Stewart</td>\n",
       "      <td>By Rixon Stewart on November 5, 2016 Rixon Ste...</td>\n",
       "      <td>1</td>\n",
       "    </tr>\n",
       "    <tr>\n",
       "      <th>20797</th>\n",
       "      <td>20797</td>\n",
       "      <td>18142</td>\n",
       "      <td>Dakota Access Caught Infiltrating Protests to ...</td>\n",
       "      <td>Eddy Lavine</td>\n",
       "      <td>posted by Eddie You know the Dakota Access Pip...</td>\n",
       "      <td>1</td>\n",
       "    </tr>\n",
       "    <tr>\n",
       "      <th>20798</th>\n",
       "      <td>20798</td>\n",
       "      <td>12139</td>\n",
       "      <td>How to Stretch the Summer Solstice - The New Y...</td>\n",
       "      <td>Alison S. Cohn</td>\n",
       "      <td>It’s officially summer, and the Society Boutiq...</td>\n",
       "      <td>0</td>\n",
       "    </tr>\n",
       "    <tr>\n",
       "      <th>20799</th>\n",
       "      <td>20799</td>\n",
       "      <td>15660</td>\n",
       "      <td>Emory University to Pay for ’100 Percent’ of U...</td>\n",
       "      <td>Tom Ciccotta</td>\n",
       "      <td>Emory University in Atlanta, Georgia, has anno...</td>\n",
       "      <td>0</td>\n",
       "    </tr>\n",
       "  </tbody>\n",
       "</table>\n",
       "<p>20800 rows × 6 columns</p>\n",
       "</div>"
      ],
      "text/plain": [
       "       Unnamed: 0     id                                           headline  \\\n",
       "0               0   9653  Ethics Questions Dogged Agriculture Nominee as...   \n",
       "1               1  10041  U.S. Must Dig Deep to Stop Argentina’s Lionel ...   \n",
       "2               2  19113  Cotton to House: ’Do Not Walk the Plank and Vo...   \n",
       "3               3   6868  Paul LePage, Besieged Maine Governor, Sends Co...   \n",
       "4               4   7596                       A Digital 9/11 If Trump Wins   \n",
       "...           ...    ...                                                ...   \n",
       "20795       20795   5671                                                NaN   \n",
       "20796       20796  14831        Albert Pike and the European Migrant Crisis   \n",
       "20797       20797  18142  Dakota Access Caught Infiltrating Protests to ...   \n",
       "20798       20798  12139  How to Stretch the Summer Solstice - The New Y...   \n",
       "20799       20799  15660  Emory University to Pay for ’100 Percent’ of U...   \n",
       "\n",
       "                       written_by  \\\n",
       "0      Eric Lipton and Steve Eder   \n",
       "1                 David Waldstein   \n",
       "2                         Pam Key   \n",
       "3                    Jess Bidgood   \n",
       "4               Finian Cunningham   \n",
       "...                           ...   \n",
       "20795              NeverSurrender   \n",
       "20796               Rixon Stewart   \n",
       "20797                 Eddy Lavine   \n",
       "20798              Alison S. Cohn   \n",
       "20799                Tom Ciccotta   \n",
       "\n",
       "                                                    news  label  \n",
       "0      WASHINGTON  —   In Sonny Perdue’s telling, Geo...      0  \n",
       "1      HOUSTON  —   Venezuela had a plan. It was a ta...      0  \n",
       "2      Sunday on ABC’s “This Week,” while discussing ...      0  \n",
       "3      AUGUSTA, Me.  —   The beleaguered Republican g...      0  \n",
       "4        Finian Cunningham has written extensively on...      1  \n",
       "...                                                  ...    ...  \n",
       "20795  No, you'll be a dog licking of the vomit of yo...      1  \n",
       "20796  By Rixon Stewart on November 5, 2016 Rixon Ste...      1  \n",
       "20797  posted by Eddie You know the Dakota Access Pip...      1  \n",
       "20798  It’s officially summer, and the Society Boutiq...      0  \n",
       "20799  Emory University in Atlanta, Georgia, has anno...      0  \n",
       "\n",
       "[20800 rows x 6 columns]"
      ]
     },
     "execution_count": 2,
     "metadata": {},
     "output_type": "execute_result"
    }
   ],
   "source": [
    "import pandas as pd\n",
    "import numpy as np\n",
    "df=pd.read_csv('train_news.csv')\n",
    "df"
   ]
  },
  {
   "cell_type": "code",
   "execution_count": 3,
   "id": "2a010495",
   "metadata": {},
   "outputs": [
    {
     "data": {
      "text/plain": [
       "(20800, 6)"
      ]
     },
     "execution_count": 3,
     "metadata": {},
     "output_type": "execute_result"
    }
   ],
   "source": [
    "df.shape\n"
   ]
  },
  {
   "cell_type": "code",
   "execution_count": 4,
   "id": "2a2cdd6f",
   "metadata": {},
   "outputs": [
    {
     "data": {
      "text/plain": [
       "(20780, 6)"
      ]
     },
     "execution_count": 4,
     "metadata": {},
     "output_type": "execute_result"
    }
   ],
   "source": [
    "df_testing=df.tail(20)\n",
    "for i in range(20799,20779,-1):\n",
    "    df.drop([i],axis=0,inplace=True)\n",
    "df.shape"
   ]
  },
  {
   "cell_type": "code",
   "execution_count": 5,
   "id": "73af5951",
   "metadata": {},
   "outputs": [
    {
     "data": {
      "text/html": [
       "<div>\n",
       "<style scoped>\n",
       "    .dataframe tbody tr th:only-of-type {\n",
       "        vertical-align: middle;\n",
       "    }\n",
       "\n",
       "    .dataframe tbody tr th {\n",
       "        vertical-align: top;\n",
       "    }\n",
       "\n",
       "    .dataframe thead th {\n",
       "        text-align: right;\n",
       "    }\n",
       "</style>\n",
       "<table border=\"1\" class=\"dataframe\">\n",
       "  <thead>\n",
       "    <tr style=\"text-align: right;\">\n",
       "      <th></th>\n",
       "      <th>Unnamed: 0</th>\n",
       "      <th>id</th>\n",
       "      <th>headline</th>\n",
       "      <th>written_by</th>\n",
       "      <th>news</th>\n",
       "      <th>label</th>\n",
       "    </tr>\n",
       "  </thead>\n",
       "  <tbody>\n",
       "    <tr>\n",
       "      <th>20780</th>\n",
       "      <td>20780</td>\n",
       "      <td>10377</td>\n",
       "      <td>Leaders Struggle to Unite House Republicans Be...</td>\n",
       "      <td>Robert Pear and Thomas Kaplan</td>\n",
       "      <td>WASHINGTON  —   The House bill to repeal the A...</td>\n",
       "      <td>0</td>\n",
       "    </tr>\n",
       "    <tr>\n",
       "      <th>20781</th>\n",
       "      <td>20781</td>\n",
       "      <td>18284</td>\n",
       "      <td>This Will END Hillary’s Campaign, HILLARY CLIN...</td>\n",
       "      <td>The Doc</td>\n",
       "      <td>October 30, 2016 at 1:18 PM \\nRight now we are...</td>\n",
       "      <td>1</td>\n",
       "    </tr>\n",
       "    <tr>\n",
       "      <th>20782</th>\n",
       "      <td>20782</td>\n",
       "      <td>13883</td>\n",
       "      <td>Panda photo contest celebrates Sino-Belgian ties</td>\n",
       "      <td>NaN</td>\n",
       "      <td>In this image provided by the Pairi Daiza park...</td>\n",
       "      <td>1</td>\n",
       "    </tr>\n",
       "    <tr>\n",
       "      <th>20783</th>\n",
       "      <td>20783</td>\n",
       "      <td>3629</td>\n",
       "      <td>Awakened Humanity Awaits Fully Scripted Ending...</td>\n",
       "      <td>noreply@blogger.com (Alexander Light)</td>\n",
       "      <td>. Awakened Humanity Awaits Fully Scripted Endi...</td>\n",
       "      <td>1</td>\n",
       "    </tr>\n",
       "    <tr>\n",
       "      <th>20784</th>\n",
       "      <td>20784</td>\n",
       "      <td>10501</td>\n",
       "      <td>Crash Near Finish Throws Tour de France Into C...</td>\n",
       "      <td>Ian Austen</td>\n",
       "      <td>France  —   His bike crushed under a motorc...</td>\n",
       "      <td>0</td>\n",
       "    </tr>\n",
       "    <tr>\n",
       "      <th>20785</th>\n",
       "      <td>20785</td>\n",
       "      <td>2573</td>\n",
       "      <td>Lady Gaga Delivers Her Most Subversive Perform...</td>\n",
       "      <td>Daniel Nussbaum</td>\n",
       "      <td>Every entertainer likes to be subversive  —   ...</td>\n",
       "      <td>0</td>\n",
       "    </tr>\n",
       "    <tr>\n",
       "      <th>20786</th>\n",
       "      <td>20786</td>\n",
       "      <td>9792</td>\n",
       "      <td>The Lost Footage of Marilyn Monroe - The New Y...</td>\n",
       "      <td>Helene Stapinski</td>\n",
       "      <td>It happened one night in the late summer of 19...</td>\n",
       "      <td>0</td>\n",
       "    </tr>\n",
       "    <tr>\n",
       "      <th>20787</th>\n",
       "      <td>20787</td>\n",
       "      <td>4816</td>\n",
       "      <td>Dem Sen Menendez Calls for a ’9/11 Independent...</td>\n",
       "      <td>Pam Key</td>\n",
       "      <td>While discussing President Donald Trump’s twee...</td>\n",
       "      <td>0</td>\n",
       "    </tr>\n",
       "    <tr>\n",
       "      <th>20788</th>\n",
       "      <td>20788</td>\n",
       "      <td>12386</td>\n",
       "      <td>Comment on Texas Police Arrest Trump Voter for...</td>\n",
       "      <td>Terry</td>\n",
       "      <td>Posted on October 30, 2016 by Tim Brown \\nOn M...</td>\n",
       "      <td>1</td>\n",
       "    </tr>\n",
       "    <tr>\n",
       "      <th>20789</th>\n",
       "      <td>20789</td>\n",
       "      <td>18359</td>\n",
       "      <td>AIDS epidemic in Russia: 'Crocodile' addicts o...</td>\n",
       "      <td>NaN</td>\n",
       "      <td>Print version Font Size The authorities of the...</td>\n",
       "      <td>1</td>\n",
       "    </tr>\n",
       "    <tr>\n",
       "      <th>20790</th>\n",
       "      <td>20790</td>\n",
       "      <td>4857</td>\n",
       "      <td>A Suburban Experiment Aims for Free Energy - T...</td>\n",
       "      <td>Diane Cardwell</td>\n",
       "      <td>FONTANA, Calif.  —   At first glance, Anthony ...</td>\n",
       "      <td>0</td>\n",
       "    </tr>\n",
       "    <tr>\n",
       "      <th>20791</th>\n",
       "      <td>20791</td>\n",
       "      <td>5895</td>\n",
       "      <td>Putin: No difference between Clinton, Trump</td>\n",
       "      <td>Editor</td>\n",
       "      <td>Russian President Vladimir Putin has responded...</td>\n",
       "      <td>1</td>\n",
       "    </tr>\n",
       "    <tr>\n",
       "      <th>20792</th>\n",
       "      <td>20792</td>\n",
       "      <td>7244</td>\n",
       "      <td>REUTERS TO CUT 2,000 JOBS…</td>\n",
       "      <td>newsguy76</td>\n",
       "      <td>Warning : array_key_exists() expects parameter...</td>\n",
       "      <td>1</td>\n",
       "    </tr>\n",
       "    <tr>\n",
       "      <th>20793</th>\n",
       "      <td>20793</td>\n",
       "      <td>16132</td>\n",
       "      <td>Assad’s History of Chemical Attacks, and Other...</td>\n",
       "      <td>Russell Goldman</td>\n",
       "      <td>In six years of war, President Bashar   of Syr...</td>\n",
       "      <td>0</td>\n",
       "    </tr>\n",
       "    <tr>\n",
       "      <th>20794</th>\n",
       "      <td>20794</td>\n",
       "      <td>366</td>\n",
       "      <td>One Police Shift: Patrolling an Anxious Americ...</td>\n",
       "      <td>The New York Times</td>\n",
       "      <td>Policing in America today is a rib dinner paid...</td>\n",
       "      <td>0</td>\n",
       "    </tr>\n",
       "    <tr>\n",
       "      <th>20795</th>\n",
       "      <td>20795</td>\n",
       "      <td>5671</td>\n",
       "      <td>NaN</td>\n",
       "      <td>NeverSurrender</td>\n",
       "      <td>No, you'll be a dog licking of the vomit of yo...</td>\n",
       "      <td>1</td>\n",
       "    </tr>\n",
       "    <tr>\n",
       "      <th>20796</th>\n",
       "      <td>20796</td>\n",
       "      <td>14831</td>\n",
       "      <td>Albert Pike and the European Migrant Crisis</td>\n",
       "      <td>Rixon Stewart</td>\n",
       "      <td>By Rixon Stewart on November 5, 2016 Rixon Ste...</td>\n",
       "      <td>1</td>\n",
       "    </tr>\n",
       "    <tr>\n",
       "      <th>20797</th>\n",
       "      <td>20797</td>\n",
       "      <td>18142</td>\n",
       "      <td>Dakota Access Caught Infiltrating Protests to ...</td>\n",
       "      <td>Eddy Lavine</td>\n",
       "      <td>posted by Eddie You know the Dakota Access Pip...</td>\n",
       "      <td>1</td>\n",
       "    </tr>\n",
       "    <tr>\n",
       "      <th>20798</th>\n",
       "      <td>20798</td>\n",
       "      <td>12139</td>\n",
       "      <td>How to Stretch the Summer Solstice - The New Y...</td>\n",
       "      <td>Alison S. Cohn</td>\n",
       "      <td>It’s officially summer, and the Society Boutiq...</td>\n",
       "      <td>0</td>\n",
       "    </tr>\n",
       "    <tr>\n",
       "      <th>20799</th>\n",
       "      <td>20799</td>\n",
       "      <td>15660</td>\n",
       "      <td>Emory University to Pay for ’100 Percent’ of U...</td>\n",
       "      <td>Tom Ciccotta</td>\n",
       "      <td>Emory University in Atlanta, Georgia, has anno...</td>\n",
       "      <td>0</td>\n",
       "    </tr>\n",
       "  </tbody>\n",
       "</table>\n",
       "</div>"
      ],
      "text/plain": [
       "       Unnamed: 0     id                                           headline  \\\n",
       "20780       20780  10377  Leaders Struggle to Unite House Republicans Be...   \n",
       "20781       20781  18284  This Will END Hillary’s Campaign, HILLARY CLIN...   \n",
       "20782       20782  13883   Panda photo contest celebrates Sino-Belgian ties   \n",
       "20783       20783   3629  Awakened Humanity Awaits Fully Scripted Ending...   \n",
       "20784       20784  10501  Crash Near Finish Throws Tour de France Into C...   \n",
       "20785       20785   2573  Lady Gaga Delivers Her Most Subversive Perform...   \n",
       "20786       20786   9792  The Lost Footage of Marilyn Monroe - The New Y...   \n",
       "20787       20787   4816  Dem Sen Menendez Calls for a ’9/11 Independent...   \n",
       "20788       20788  12386  Comment on Texas Police Arrest Trump Voter for...   \n",
       "20789       20789  18359  AIDS epidemic in Russia: 'Crocodile' addicts o...   \n",
       "20790       20790   4857  A Suburban Experiment Aims for Free Energy - T...   \n",
       "20791       20791   5895        Putin: No difference between Clinton, Trump   \n",
       "20792       20792   7244                         REUTERS TO CUT 2,000 JOBS…   \n",
       "20793       20793  16132  Assad’s History of Chemical Attacks, and Other...   \n",
       "20794       20794    366  One Police Shift: Patrolling an Anxious Americ...   \n",
       "20795       20795   5671                                                NaN   \n",
       "20796       20796  14831        Albert Pike and the European Migrant Crisis   \n",
       "20797       20797  18142  Dakota Access Caught Infiltrating Protests to ...   \n",
       "20798       20798  12139  How to Stretch the Summer Solstice - The New Y...   \n",
       "20799       20799  15660  Emory University to Pay for ’100 Percent’ of U...   \n",
       "\n",
       "                                  written_by  \\\n",
       "20780          Robert Pear and Thomas Kaplan   \n",
       "20781                                The Doc   \n",
       "20782                                    NaN   \n",
       "20783  noreply@blogger.com (Alexander Light)   \n",
       "20784                             Ian Austen   \n",
       "20785                        Daniel Nussbaum   \n",
       "20786                       Helene Stapinski   \n",
       "20787                                Pam Key   \n",
       "20788                                  Terry   \n",
       "20789                                    NaN   \n",
       "20790                         Diane Cardwell   \n",
       "20791                                 Editor   \n",
       "20792                              newsguy76   \n",
       "20793                        Russell Goldman   \n",
       "20794                     The New York Times   \n",
       "20795                         NeverSurrender   \n",
       "20796                          Rixon Stewart   \n",
       "20797                            Eddy Lavine   \n",
       "20798                         Alison S. Cohn   \n",
       "20799                           Tom Ciccotta   \n",
       "\n",
       "                                                    news  label  \n",
       "20780  WASHINGTON  —   The House bill to repeal the A...      0  \n",
       "20781  October 30, 2016 at 1:18 PM \\nRight now we are...      1  \n",
       "20782  In this image provided by the Pairi Daiza park...      1  \n",
       "20783  . Awakened Humanity Awaits Fully Scripted Endi...      1  \n",
       "20784     France  —   His bike crushed under a motorc...      0  \n",
       "20785  Every entertainer likes to be subversive  —   ...      0  \n",
       "20786  It happened one night in the late summer of 19...      0  \n",
       "20787  While discussing President Donald Trump’s twee...      0  \n",
       "20788  Posted on October 30, 2016 by Tim Brown \\nOn M...      1  \n",
       "20789  Print version Font Size The authorities of the...      1  \n",
       "20790  FONTANA, Calif.  —   At first glance, Anthony ...      0  \n",
       "20791  Russian President Vladimir Putin has responded...      1  \n",
       "20792  Warning : array_key_exists() expects parameter...      1  \n",
       "20793  In six years of war, President Bashar   of Syr...      0  \n",
       "20794  Policing in America today is a rib dinner paid...      0  \n",
       "20795  No, you'll be a dog licking of the vomit of yo...      1  \n",
       "20796  By Rixon Stewart on November 5, 2016 Rixon Ste...      1  \n",
       "20797  posted by Eddie You know the Dakota Access Pip...      1  \n",
       "20798  It’s officially summer, and the Society Boutiq...      0  \n",
       "20799  Emory University in Atlanta, Georgia, has anno...      0  "
      ]
     },
     "execution_count": 5,
     "metadata": {},
     "output_type": "execute_result"
    }
   ],
   "source": [
    "df_testing"
   ]
  },
  {
   "cell_type": "code",
   "execution_count": 6,
   "id": "93777c52",
   "metadata": {},
   "outputs": [
    {
     "data": {
      "text/plain": [
       "Index(['Unnamed: 0', 'id', 'headline', 'written_by', 'news', 'label'], dtype='object')"
      ]
     },
     "execution_count": 6,
     "metadata": {},
     "output_type": "execute_result"
    }
   ],
   "source": [
    "df.columns"
   ]
  },
  {
   "cell_type": "code",
   "execution_count": 7,
   "id": "bc20cf83",
   "metadata": {},
   "outputs": [
    {
     "data": {
      "text/html": [
       "<div>\n",
       "<style scoped>\n",
       "    .dataframe tbody tr th:only-of-type {\n",
       "        vertical-align: middle;\n",
       "    }\n",
       "\n",
       "    .dataframe tbody tr th {\n",
       "        vertical-align: top;\n",
       "    }\n",
       "\n",
       "    .dataframe thead th {\n",
       "        text-align: right;\n",
       "    }\n",
       "</style>\n",
       "<table border=\"1\" class=\"dataframe\">\n",
       "  <thead>\n",
       "    <tr style=\"text-align: right;\">\n",
       "      <th></th>\n",
       "      <th>news</th>\n",
       "      <th>label</th>\n",
       "    </tr>\n",
       "  </thead>\n",
       "  <tbody>\n",
       "    <tr>\n",
       "      <th>0</th>\n",
       "      <td>WASHINGTON  —   In Sonny Perdue’s telling, Geo...</td>\n",
       "      <td>0</td>\n",
       "    </tr>\n",
       "    <tr>\n",
       "      <th>1</th>\n",
       "      <td>HOUSTON  —   Venezuela had a plan. It was a ta...</td>\n",
       "      <td>0</td>\n",
       "    </tr>\n",
       "    <tr>\n",
       "      <th>2</th>\n",
       "      <td>Sunday on ABC’s “This Week,” while discussing ...</td>\n",
       "      <td>0</td>\n",
       "    </tr>\n",
       "    <tr>\n",
       "      <th>3</th>\n",
       "      <td>AUGUSTA, Me.  —   The beleaguered Republican g...</td>\n",
       "      <td>0</td>\n",
       "    </tr>\n",
       "    <tr>\n",
       "      <th>4</th>\n",
       "      <td>Finian Cunningham has written extensively on...</td>\n",
       "      <td>1</td>\n",
       "    </tr>\n",
       "    <tr>\n",
       "      <th>...</th>\n",
       "      <td>...</td>\n",
       "      <td>...</td>\n",
       "    </tr>\n",
       "    <tr>\n",
       "      <th>20775</th>\n",
       "      <td>LUMBERTON, N. C.  —   Brittany Graham had been...</td>\n",
       "      <td>0</td>\n",
       "    </tr>\n",
       "    <tr>\n",
       "      <th>20776</th>\n",
       "      <td>Italian banks struggling to stay afloat Thu Oc...</td>\n",
       "      <td>1</td>\n",
       "    </tr>\n",
       "    <tr>\n",
       "      <th>20777</th>\n",
       "      <td>Huckabee Responds To Flag-Burning Trump Hater…...</td>\n",
       "      <td>1</td>\n",
       "    </tr>\n",
       "    <tr>\n",
       "      <th>20778</th>\n",
       "      <td>Photo by -ted | CC BY 2.0 \\nWhile the recent p...</td>\n",
       "      <td>1</td>\n",
       "    </tr>\n",
       "    <tr>\n",
       "      <th>20779</th>\n",
       "      <td>By Michael Hayne Election 2016 , News , Politi...</td>\n",
       "      <td>1</td>\n",
       "    </tr>\n",
       "  </tbody>\n",
       "</table>\n",
       "<p>20780 rows × 2 columns</p>\n",
       "</div>"
      ],
      "text/plain": [
       "                                                    news  label\n",
       "0      WASHINGTON  —   In Sonny Perdue’s telling, Geo...      0\n",
       "1      HOUSTON  —   Venezuela had a plan. It was a ta...      0\n",
       "2      Sunday on ABC’s “This Week,” while discussing ...      0\n",
       "3      AUGUSTA, Me.  —   The beleaguered Republican g...      0\n",
       "4        Finian Cunningham has written extensively on...      1\n",
       "...                                                  ...    ...\n",
       "20775  LUMBERTON, N. C.  —   Brittany Graham had been...      0\n",
       "20776  Italian banks struggling to stay afloat Thu Oc...      1\n",
       "20777  Huckabee Responds To Flag-Burning Trump Hater…...      1\n",
       "20778  Photo by -ted | CC BY 2.0 \\nWhile the recent p...      1\n",
       "20779  By Michael Hayne Election 2016 , News , Politi...      1\n",
       "\n",
       "[20780 rows x 2 columns]"
      ]
     },
     "execution_count": 7,
     "metadata": {},
     "output_type": "execute_result"
    }
   ],
   "source": [
    "data=df.drop(['Unnamed: 0','id','headline','written_by'],axis=1)\n",
    "#dropping unwanted columns from the dataset\n",
    "data"
   ]
  },
  {
   "cell_type": "code",
   "execution_count": 8,
   "id": "3a39feb1",
   "metadata": {},
   "outputs": [
    {
     "data": {
      "text/plain": [
       "news     39\n",
       "label     0\n",
       "dtype: int64"
      ]
     },
     "execution_count": 8,
     "metadata": {},
     "output_type": "execute_result"
    }
   ],
   "source": [
    "#finding null values in the dataset\n",
    "data.isnull().sum()"
   ]
  },
  {
   "cell_type": "code",
   "execution_count": 9,
   "id": "ec869f5b",
   "metadata": {},
   "outputs": [
    {
     "data": {
      "text/plain": [
       "Unnamed: 0    0\n",
       "id            0\n",
       "headline      1\n",
       "written_by    2\n",
       "news          0\n",
       "label         0\n",
       "dtype: int64"
      ]
     },
     "execution_count": 9,
     "metadata": {},
     "output_type": "execute_result"
    }
   ],
   "source": [
    "df_testing.isnull().sum()"
   ]
  },
  {
   "cell_type": "code",
   "execution_count": 10,
   "id": "bce42e28",
   "metadata": {},
   "outputs": [],
   "source": [
    "data.reset_index(inplace=True)\n",
    "data.drop([\"index\"],axis=1,inplace=True)"
   ]
  },
  {
   "cell_type": "code",
   "execution_count": 11,
   "id": "832d5110",
   "metadata": {},
   "outputs": [
    {
     "data": {
      "text/plain": [
       "Index(['news', 'label'], dtype='object')"
      ]
     },
     "execution_count": 11,
     "metadata": {},
     "output_type": "execute_result"
    }
   ],
   "source": [
    "data.columns\n"
   ]
  },
  {
   "cell_type": "code",
   "execution_count": 12,
   "id": "50841ce2",
   "metadata": {},
   "outputs": [],
   "source": [
    "#defining a text processing function\n",
    "import string\n",
    "import re\n",
    "def text_processing(text):\n",
    "    text = text.lower()\n",
    "    text = re.sub('\\[.*?\\]', '', text)\n",
    "    text = re.sub(\"\\\\W\",\" \",text) \n",
    "    text = re.sub('https?://\\S+|www\\.\\S+', '', text)\n",
    "    text = re.sub('<.*?>+', '', text)\n",
    "    text = re.sub('[%s]' % re.escape(string.punctuation), '', text)\n",
    "    text = re.sub('\\n', '', text)\n",
    "    text = re.sub('\\w*\\d\\w*', '', text)    \n",
    "    return text"
   ]
  },
  {
   "cell_type": "code",
   "execution_count": 13,
   "id": "adb11ff5",
   "metadata": {},
   "outputs": [],
   "source": [
    "data['news']=data['news'].fillna('').apply(text_processing)"
   ]
  },
  {
   "cell_type": "code",
   "execution_count": 14,
   "id": "d00a9f55",
   "metadata": {},
   "outputs": [],
   "source": [
    "x=data['news']\n",
    "y=data['label']"
   ]
  },
  {
   "cell_type": "code",
   "execution_count": 15,
   "id": "f59c9d62",
   "metadata": {},
   "outputs": [
    {
     "data": {
      "text/plain": [
       "news     object\n",
       "label     int64\n",
       "dtype: object"
      ]
     },
     "execution_count": 15,
     "metadata": {},
     "output_type": "execute_result"
    }
   ],
   "source": [
    "data.dtypes\n"
   ]
  },
  {
   "cell_type": "code",
   "execution_count": 16,
   "id": "253bc90c",
   "metadata": {},
   "outputs": [],
   "source": [
    "from sklearn.model_selection import train_test_split\n",
    "x_train,x_test,y_train,y_test=train_test_split(x,y,test_size=0.25)"
   ]
  },
  {
   "cell_type": "code",
   "execution_count": 17,
   "id": "cd5729a2",
   "metadata": {},
   "outputs": [],
   "source": [
    "from sklearn.feature_extraction.text import TfidfVectorizer\n",
    "vector=TfidfVectorizer()\n",
    "X_train=vector.fit_transform(x_train)\n",
    "X_test=vector.transform(x_test)"
   ]
  },
  {
   "cell_type": "code",
   "execution_count": 18,
   "id": "fed61956",
   "metadata": {},
   "outputs": [
    {
     "data": {
      "text/plain": [
       "0.944177093358999"
      ]
     },
     "execution_count": 18,
     "metadata": {},
     "output_type": "execute_result"
    }
   ],
   "source": [
    "from sklearn.linear_model import LogisticRegression\n",
    "from sklearn.metrics import accuracy_score\n",
    "from sklearn.metrics import classification_report\n",
    "LR = LogisticRegression()\n",
    "LR.fit(X_train,y_train)\n",
    "pred_lr=LR.predict(X_test)\n",
    "LR.score(X_test, y_test)"
   ]
  },
  {
   "cell_type": "code",
   "execution_count": 19,
   "id": "d5d42727",
   "metadata": {},
   "outputs": [
    {
     "name": "stdout",
     "output_type": "stream",
     "text": [
      "              precision    recall  f1-score   support\n",
      "\n",
      "           0       0.95      0.94      0.94      2606\n",
      "           1       0.94      0.95      0.94      2589\n",
      "\n",
      "    accuracy                           0.94      5195\n",
      "   macro avg       0.94      0.94      0.94      5195\n",
      "weighted avg       0.94      0.94      0.94      5195\n",
      "\n"
     ]
    }
   ],
   "source": [
    "print(classification_report(y_test, pred_lr))"
   ]
  },
  {
   "cell_type": "code",
   "execution_count": 20,
   "id": "bf713a4a",
   "metadata": {},
   "outputs": [],
   "source": [
    "def output(n):\n",
    "    if n==0:\n",
    "        return \"Fake\"\n",
    "    elif n==1:\n",
    "        return \"Not Fake\"\n",
    "def manual_testing(news):\n",
    "    test_news={\"text\":[news]}\n",
    "    df_test=pd.DataFrame(test_news)\n",
    "    df_test[\"text\"]=df_test[\"text\"].apply(text_processing)\n",
    "    x_test_new=df_test[\"text\"]\n",
    "    x_vect_test=vector.transform(x_test_new)\n",
    "    pred_LR=LR.predict(x_vect_test)\n",
    "    return print(\"\\n LR Prediction is {}\".format(output(pred_LR[0])))"
   ]
  },
  {
   "cell_type": "code",
   "execution_count": 21,
   "id": "ded7f457",
   "metadata": {},
   "outputs": [
    {
     "name": "stdout",
     "output_type": "stream",
     "text": [
      "AUGUSTA, Me.  â€”   The beleaguered Republican governor of Maine seemed on Tuesday to back off from hints that he might quit in the midst of a controversy over his latest tirades of obscene, threatening and racially charged remarks, as Republican lawmakers in the House rallied to quash the possibility of formally rebuking him  â€”   or worse  â€”   for his erratic behavior. Gov. Paul R. LePage, whose tenure here has often seemed to lurch from one   crisis to another, began the day by suggesting in a radio interview Tuesday morning that he was considering stepping down as the outrage generated by a profane voice mail and his apparent endorsement of racial profiling drew admonishments even from members of his party. â€œItâ€™s really one thing to have one party behind you,â€ Mr. LePage said on the radio, in an interview that was at times uncharacteristically  . â€œItâ€™s another thing not to have any party behind you. â€ But in the early afternoon, in a Twitter message, Mr. LePage seemed to have regained his spirit of defiance. â€œRegarding rumors of resignation, to paraphrase Mark Twain, â€˜The reports of my political demise are greatly exaggerated,â€™â€ the message read. Mr. LePage was spending much of the day in the town of Baileyville, 170 miles from here, near the Canadian border. By nighttime, it was clear there was a basis for the governorâ€™s renewed swagger, as House Republican leaders said they would not join the calls to convene a special session, which would have raised the possibility of impeachment. â€œWe believe that the governor is addressing this issue,â€ said State Representative Kenneth Fredette, an ally of Mr. LePageâ€™s and the minority leader of the House. â€œWe are not interested in coming back in a special session. â€ Speaking with reporters after the caucus meeting, Mr. Fredette condemned Mr. LePageâ€™s remarks  â€”   â€œNo one agrees with what the governor said or did,â€ he said  â€”   and asserted that â€œno one gets a free pass. â€ But he then seemed to give one to Mr. LePage, saying that a special session would distract voters from important issues ahead of the fall election. Since he was elected in 2010 and   in 2014, Mr. LePage has had at least nine political lives and been able to ride out waves of controversy, often provoked by his harsh, insulting and racially charged statements. The outbursts have angered Democrats and embarrassed moderate Republicans, yet left largely unruffled a political base drawn to the former businessmanâ€™s unfiltered style. Democrats and some Senate Republicans raised the possibility of a special session to consider ways to rebuke the governor, but such a session could be held only with the approval of half of both caucuses in each legislative chamber. The House Republican caucus held the line after meeting at 6 p. m. The caucus meeting followed days of controversy, after Mr. LePage stated at a   meeting last Wednesday that the vast majority of heroin dealers in Maine were black and Hispanic. As criticism swelled, Mr. LePage came to believe that a Democratic lawmaker, Drew Gattine, had called him a racist, and left him a threatening voice mail threaded with obscenities, which he followed by suggesting that he and Mr. Gattine have a duel. On Friday, Mr. LePage reiterated his comments about drugs and race, showing reporters a binder of people arrested on drug charges and asserting that black and Hispanic people from out of state were the â€œenemy. â€ Those comments led Amy Volk, a Republican in the Senate, to make a public break with Mr. LePage, questioning his sanity and sobriety in a Facebook post, although she later apologized for doing so. She called for a special legislative session to consider a censure of Mr. LePage. â€œItâ€™s just so nonproductive,â€ Ms. Volk said in an interview on Tuesday. â€œAnd so offensive to   citizens of color, that they would be somehow lumped in with people that are breaking the law just because of the color of their skin. â€ Democratic leaders said they would continue to call for the governorâ€™s resignation. â€œWhat the House Republicans have done is slammed the door on their willingness to actually address this behavior at this time,â€ said Jeff McCabe, the Democratic majority leader of the House, on Tuesday night. â€œWe think that we can work with Senate Republicans as well as some House Republicans who we know are not happy with tonightâ€™s display of political theater. â€ Mr. LePage met with Republican legislative leaders on Monday, when he was urged to take steps like apologizing directly to the lawmaker he had threatened, and was asked to seek help, professional or otherwise, according to a person briefed on the discussions. During his interview on the radio station WVOM, Mr. LePage said he â€œjust canâ€™t doâ€ some of the Senate Republicansâ€™ demands, although he did not specify which ones. He added that Republican lawmakers in the   House want â€œto salvage what we can and move forward. â€ He went on to say that he was looking at â€œoptions,â€ conceding that his remarks had cost him crucial support. â€œIf Iâ€™ve lost my ability to convince the Maine people thatâ€™s what we need and thatâ€™s the type of people we need in Augusta, then you know, maybe it is time to move on,â€ he said. His later Twitter message ridiculed any talk of his stepping down. On the radio, he also apologized for his behavior toward Mr. Gattine, calling it â€œtotally, totally unnecessary,â€ although, in an interview with local television that afternoon, he suggested that Mr. Gattine owed an apology to him. In the morningâ€™s radio interview, he also defended his comments on drugs and race, saying linking the two were â€œfact,â€ and adding, â€œAll lives matter. â€ â€œEvery drug arrest we get the story, and the people, and when it comes to meth labs, theyâ€™re essentially all Maine white people,â€ Mr. LePage said. â€œWhen it comes to the heroin epidemic, itâ€™s just the opposite. â€ The imbroglio seems to have strengthened some Republicansâ€™ commitment to Mr.\n",
      "\n",
      " LR Prediction is Fake\n"
     ]
    }
   ],
   "source": [
    "news=str(input())\n",
    "manual_testing(news)"
   ]
  },
  {
   "cell_type": "code",
   "execution_count": 22,
   "id": "2fa4443d",
   "metadata": {},
   "outputs": [],
   "source": [
    "news=data['news']"
   ]
  },
  {
   "cell_type": "code",
   "execution_count": null,
   "id": "fb11ef72",
   "metadata": {},
   "outputs": [],
   "source": []
  }
 ],
 "metadata": {
  "kernelspec": {
   "display_name": "Python 3 (ipykernel)",
   "language": "python",
   "name": "python3"
  },
  "language_info": {
   "codemirror_mode": {
    "name": "ipython",
    "version": 3
   },
   "file_extension": ".py",
   "mimetype": "text/x-python",
   "name": "python",
   "nbconvert_exporter": "python",
   "pygments_lexer": "ipython3",
   "version": "3.11.4"
  }
 },
 "nbformat": 4,
 "nbformat_minor": 5
}
